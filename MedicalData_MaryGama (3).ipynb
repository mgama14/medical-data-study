{
 "cells": [
  {
   "cell_type": "code",
   "execution_count": 144,
   "id": "390b0e68-68f7-4ca4-a607-463f8e5ba836",
   "metadata": {
    "scrolled": true
   },
   "outputs": [
    {
     "name": "stdout",
     "output_type": "stream",
     "text": [
      "Column: Age\n",
      "Mean: 48.95031176929073\n",
      "Median: 49.0\n",
      "Range: 73\n",
      "\n",
      "Column: BMI\n",
      "Mean: 24.613406079501168\n",
      "Median: 24.0\n",
      "Range: 32\n",
      "\n",
      "Column: Chol\n",
      "Mean: 4.866882412704599\n",
      "Median: 4.8\n",
      "Range: 11.65\n",
      "\n",
      "Column: TG\n",
      "Mean: 1.7193278530787217\n",
      "Median: 1.38\n",
      "Range: 32.64\n",
      "\n",
      "Column: LDL\n",
      "Mean: 2.9141205537802026\n",
      "Median: 2.79\n",
      "Range: 9.6\n",
      "\n",
      "Column: Cr\n",
      "Mean: 71.14480039010134\n",
      "Median: 70.2\n",
      "Range: 795.139247\n",
      "\n",
      "Column: BUN\n",
      "Mean: 4.896969074045206\n",
      "Median: 4.72\n",
      "Range: 38.4\n",
      "\n"
     ]
    }
   ],
   "source": [
    "import pandas as pd\n",
    "\n",
    "#Instead of commenting everything in I am writing my thought process on the doc submitted with this notebook.\n",
    "#I am so so so sorry for the previous messy submissions with walls of comments. \n",
    "\n",
    "medicaldata = pd.read_csv(\"./DiabetesClassification.csv\")\n",
    "\n",
    "#QUESTION 1: \n",
    "\n",
    "#a) I am double checking what the columns in this dataframe are. I proceed to drop HDL as it isn't relevant (I think), and the Unnamed column.\n",
    "\n",
    "#print(medicaldata.columns)\n",
    "\n",
    "medicaldata.drop(['Unnamed: 0', 'HDL'], axis = 1, inplace=True)\n",
    "\n",
    "#This leaves me with 5132 rows x 9 columns.\n",
    "\n",
    "#b) The types of data this returns are int64, object, int64, and float64.\n",
    "\n",
    "medicaldata.dtypes\n",
    "\n",
    "#c) Identify and display the statistical summary for numerical attributes. I am assuming this is mean, median, and range for columns: Age, BMI, Chol,\n",
    "#TG, LDL, Cr, BUN\n",
    "\n",
    "def statistics(columns):\n",
    "    for column_name in columns:\n",
    "        column = medicaldata[column_name]\n",
    "        mean = column.mean()\n",
    "        median = column.median()\n",
    "        medrange = column.max() - column.min()\n",
    "        print(f\"Column: {column_name}\")\n",
    "        print(f\"Mean: {mean}\")\n",
    "        print(f\"Median: {median}\")\n",
    "        print(f\"Range: {medrange}\")\n",
    "        print()\n",
    "\n",
    "filteredcolumns = ['Age', 'BMI', 'Chol', 'TG', 'LDL', 'Cr', 'BUN']\n",
    "statistics(filteredcolumns)"
   ]
  },
  {
   "cell_type": "code",
   "execution_count": 142,
   "id": "62c2a6a0-e888-425e-a640-5ec6d8784d38",
   "metadata": {},
   "outputs": [
    {
     "name": "stdout",
     "output_type": "stream",
     "text": [
      "The number of people diagnosed with diabetes is 1993.\n",
      "The amount of people with a BMI of 25 and above is 2337. Their average cholestoral is 4.98\n",
      "The gender distribution in the entire dateset is:\n",
      "M: 3256\n",
      "F: 1876\n",
      "The gender distribution of the individuals with a BMI of over 25 are:\n",
      "M: 1683\n",
      "F: 654\n"
     ]
    },
    {
     "data": {
      "text/plain": [
       "Gender\n",
       "M    3256\n",
       "F    1876\n",
       "Name: count, dtype: int64"
      ]
     },
     "execution_count": 142,
     "metadata": {},
     "output_type": "execute_result"
    }
   ],
   "source": [
    "#QUESTION 2\n",
    "\n",
    "#a) How many individuals are diagnosed with diabetes (where the 'Diagnosis' column is 1)?\n",
    "\n",
    "diabetescount = medicaldata['Diagnosis'].sum()\n",
    "\n",
    "print(f'The number of people diagnosed with diabetes is {diabetescount}.')\n",
    "\n",
    "#b. Filter the dataset to include only individuals with a Body Mass Index (BMI) over 25 and calculate the average cholesterol level for this group.\n",
    "\n",
    "bmi25 = medicaldata[medicaldata['BMI'] >= 25]\n",
    "numberofpeople = len(bmi25)\n",
    "averagechol = bmi25['Chol'].mean()\n",
    "\n",
    "print(f'The amount of people with a BMI of 25 and above is {numberofpeople}. Their average cholestoral is {averagechol:.2f}')\n",
    "\n",
    "#There was one instance of a lowercase 'f' entered instead of an 'F'. I am correcting it with the replace method. \n",
    "\n",
    "medicaldata['Gender'] = medicaldata['Gender'].replace('f', 'F')\n",
    "gender_counts = medicaldata['Gender'].value_counts()\n",
    "print(\"The gender distribution in the entire dateset is:\")\n",
    "print(f\"M: {gender_counts.get('M', 0)}\")\n",
    "print(f\"F: {gender_counts.get('F', 0)}\")\n",
    "\n",
    "#This counts for the entire dataset. If you meant we want to count just the bmi25 results dataset:\n",
    "\n",
    "over25gender = bmi25['Gender'].value_counts()\n",
    "\n",
    "print(\"The gender distribution of the individuals with a BMI of over 25 are:\")\n",
    "print(f\"M: {over25gender.get('M',0)}\")\n",
    "print(f\"F: {over25gender.get('F',0)}\")\n"
   ]
  },
  {
   "cell_type": "code",
   "execution_count": 145,
   "id": "73198c2d-0f5f-4041-8da9-896fbcb92a8b",
   "metadata": {},
   "outputs": [
    {
     "name": "stdout",
     "output_type": "stream",
     "text": [
      "The average age for each gender with diabetes is 58.42 for females and 58.07 for males\n",
      "The average Creatinine levels for males is 78.81 and females is 57.86. The difference between the two, 20.95, is very notable.\n",
      "Among individuals without diabetes, those with a TF of over 1.5 have an average LDL level of 2.93\n"
     ]
    }
   ],
   "source": [
    "#QUESTION 3:\n",
    "\n",
    "#a. For individuals with diabetes, what is the average age for each gender? Use the 'Diagnosis' column to filter for diabetes.\n",
    "\n",
    "#medicaldata['Diagnosis'].sum()\n",
    "\n",
    "diabetesPositive = medicaldata[medicaldata['Diagnosis'] == 1]\n",
    "genderAges = diabetesPositive.groupby('Gender')['Age'].mean()\n",
    "\n",
    "print(f'The average age for each gender with diabetes is {genderAges['F']:.2f} for females and {genderAges['M']:.2f} for males')\n",
    "\n",
    "#b. Find the average Creatinine (Cr) levels for males and females. Is there a noticeable difference between genders?\n",
    "\n",
    "crMean = medicaldata.groupby('Gender')['Cr'].mean()\n",
    "\n",
    "crDiff = crMean['M']-crMean['F']\n",
    "\n",
    "print(f'The average Creatinine levels for males is {crMean['M']:.2f} and females is {crMean['F']:.2f}. The difference between the two, {crDiff:.2f}, is very notable.')\n",
    "\n",
    "#c. Among individuals without diabetes, identify those with high triglyceride levels (TG > 1.5) and calculate the average LDL levels for this group.\n",
    "\n",
    "diabetesNegative = medicaldata[medicaldata['Diagnosis'] == 0]\n",
    "\n",
    "highTG = diabetesNegative[diabetesNegative['TG'] > 1.5]\n",
    "\n",
    "LDL = highTG['LDL'].mean()\n",
    "\n",
    "print(f'Among individuals without diabetes, those with a TF of over 1.5 have an average LDL level of {LDL:.2f}')"
   ]
  },
  {
   "cell_type": "code",
   "execution_count": 141,
   "id": "94597b28-20cb-49c1-abc2-33da18b323e8",
   "metadata": {},
   "outputs": [
    {
     "name": "stdout",
     "output_type": "stream",
     "text": [
      "             Age    BMI  Chol    TG   LDL     Cr   BUN\n",
      "Diagnosis                                             \n",
      "0          43.08  23.16  4.76  1.46  2.74  71.99  4.72\n",
      "1          58.20  26.91  5.03  2.12  3.19  69.81  5.18\n",
      "\n",
      "The average cholestorol level for underweight individuals is 4.44\n",
      "The average cholestorol level for normal weight individuals is 4.80\n",
      "The average cholestorol level for overweight individuals is 5.02\n",
      "The average cholestorol level for obese individuals is 4.97\n",
      "\n",
      "Gender  Diagnosis\n",
      "F       0            42.85\n",
      "        1            58.41\n",
      "M       0            43.21\n",
      "        1            58.07\n",
      "Name: Age, dtype: float64\n"
     ]
    }
   ],
   "source": [
    "#Question 4:\n",
    "\n",
    "#a. Group the dataset by 'Diagnosis' and calculate the mean for all numerical columns. \n",
    "#What insights can you gather about the differences between individuals with and without diabetes?\n",
    "\n",
    "filteredcolumns = ['Age', 'BMI', 'Chol', 'TG', 'LDL', 'Cr', 'BUN']\n",
    "means = medicaldata.groupby('Diagnosis')[filteredcolumns].mean()\n",
    "\n",
    "print(means.round(2))\n",
    "\n",
    "#b. For each BMI category (underweight < 18.5, normal weight 18.5–24.9, overweight 25–29.9, obese ≥30), \n",
    "#calculate the average cholesterol level. How does BMI affect cholesterol levels based on this dataset?\n",
    "\n",
    "underweight = medicaldata[medicaldata['BMI'] < 18.5]\n",
    "\n",
    "normalWeight = medicaldata[(medicaldata['BMI'] > 18.5) & (medicaldata['BMI'] < 24.9)]\n",
    "\n",
    "overWeight = medicaldata[(medicaldata['BMI'] > 25) & (medicaldata['BMI'] < 29.9)]\n",
    "\n",
    "obese = medicaldata[medicaldata['BMI'] >= 30]\n",
    "\n",
    "\n",
    "avCholUnderweight = underweight['Chol'].mean()\n",
    "avCholNorm = normalWeight['Chol'].mean()\n",
    "avOver = overWeight['Chol'].mean()\n",
    "avobese = obese['Chol'].mean()\n",
    "\n",
    "print()\n",
    "print(f'The average cholestorol level for underweight individuals is {avCholUnderweight:.2f}')\n",
    "print(f'The average cholestorol level for normal weight individuals is {avCholNorm:.2f}')\n",
    "print(f'The average cholestorol level for overweight individuals is {avOver:.2f}')\n",
    "print(f'The average cholestorol level for obese individuals is {avobese:.2f}')\n",
    "\n",
    "#c. Group the data by 'Gender' and 'Diagnosis', and find the average age in each group. What trends can you observe regarding age, \n",
    "#gender, and diabetes diagnosis?\n",
    "\n",
    "avages = medicaldata.groupby(['Gender', 'Diagnosis'])['Age'].mean()\n",
    "\n",
    "print()\n",
    "print(avages.round(2))"
   ]
  }
 ],
 "metadata": {
  "kernelspec": {
   "display_name": "Python 3 (ipykernel)",
   "language": "python",
   "name": "python3"
  },
  "language_info": {
   "codemirror_mode": {
    "name": "ipython",
    "version": 3
   },
   "file_extension": ".py",
   "mimetype": "text/x-python",
   "name": "python",
   "nbconvert_exporter": "python",
   "pygments_lexer": "ipython3",
   "version": "3.12.2"
  }
 },
 "nbformat": 4,
 "nbformat_minor": 5
}
